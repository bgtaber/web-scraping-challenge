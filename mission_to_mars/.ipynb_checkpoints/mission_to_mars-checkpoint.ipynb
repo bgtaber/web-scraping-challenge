{
 "cells": [
  {
   "cell_type": "code",
   "execution_count": 7,
   "metadata": {},
   "outputs": [],
   "source": [
    "from bs4 import BeautifulSoup\n",
    "import requests\n",
    "import pymongo\n",
    "import time\n",
    "import pandas as pd\n",
    "from splinter import Browser\n",
    "from selenium import webdriver\n",
    "from webdriver_manager.chrome import ChromeDriverManager"
   ]
  },
  {
   "cell_type": "code",
   "execution_count": 8,
   "metadata": {},
   "outputs": [
    {
     "name": "stderr",
     "output_type": "stream",
     "text": [
      "[WDM] - ====== WebDriver manager ======\n"
     ]
    },
    {
     "name": "stdout",
     "output_type": "stream",
     "text": [
      "\n",
      "\n"
     ]
    },
    {
     "name": "stderr",
     "output_type": "stream",
     "text": [
      "[WDM] - Current google-chrome version is 89.0.4389\n",
      "[WDM] - Get LATEST driver version for 89.0.4389\n",
      "[WDM] - There is no [mac64] chromedriver for browser 89.0.4389 in cache\n",
      "[WDM] - Get LATEST driver version for 89.0.4389\n",
      "[WDM] - Trying to download new driver from https://chromedriver.storage.googleapis.com/89.0.4389.23/chromedriver_mac64.zip\n",
      "[WDM] - Driver has been saved in cache [/Users/bailey/.wdm/drivers/chromedriver/mac64/89.0.4389.23]\n"
     ]
    }
   ],
   "source": [
    "executable_path = {'executable_path': ChromeDriverManager().install()}\n",
    "browser = Browser('chrome', **executable_path, headless=False)\n"
   ]
  },
  {
   "cell_type": "code",
   "execution_count": 9,
   "metadata": {},
   "outputs": [],
   "source": [
    "news_url=\"https://mars.nasa.gov/news/?page=0&per_page=40&order=publish_date+desc%2Ccreated_at+desc&search=&category=19%2C165%2C184%2C204&blank_scope=Latest\"\n",
    "browser.visit(news_url)"
   ]
  },
  {
   "cell_type": "code",
   "execution_count": 10,
   "metadata": {},
   "outputs": [],
   "source": [
    "html = browser.html\n",
    "\n",
    "# Parse \n",
    "soup = BeautifulSoup(html, 'html.parser')\n",
    "\n",
    "#Select latest \n",
    "browser.find_by_id('date').first.click()\n",
    "browser.find_option_by_text('Latest').first.click()\n",
    "\n",
    "#Select All\n",
    "browser.find_by_id('categories').first.click()\n",
    "browser.find_option_by_text('All Categories').first.click()\n",
    "browser.find_by_id('categories').first.click()\n",
    "time.sleep(0)"
   ]
  },
  {
   "cell_type": "code",
   "execution_count": 12,
   "metadata": {},
   "outputs": [],
   "source": [
    "#Collect the latest News Title\n",
    "results=soup.find('li', class_=\"slide\")\n",
    "\n",
    "# Pase the first title from the results \n",
    "news_title =results.find('div',class_='content_title').text.strip()\n",
    "\n",
    "# Parse out the first paragraph associatd with the tile from results\n",
    "news_p=results.find('div',class_='article_teaser_body').text.strip()\n",
    "\n"
   ]
  },
  {
   "cell_type": "code",
   "execution_count": 13,
   "metadata": {},
   "outputs": [],
   "source": [
    "#Use splinter to browse through page\n",
    "images_url=\"https://www.jpl.nasa.gov/images?search=&category=Mars\"\n",
    "browser.visit(images_url)\n",
    "time.sleep(1)"
   ]
  },
  {
   "cell_type": "code",
   "execution_count": 14,
   "metadata": {},
   "outputs": [],
   "source": [
    "html = browser.html\n",
    "\n",
    "# Parse HTML with Beautiful Soup\n",
    "soup = BeautifulSoup(html, 'html.parser')"
   ]
  },
  {
   "cell_type": "code",
   "execution_count": 15,
   "metadata": {},
   "outputs": [],
   "source": [
    "browser.find_by_id('filter_Mars').click()\n",
    "time.sleep(0.5)\n",
    "featured_image_url=browser.find_by_css('.BaseImage')['data-src']"
   ]
  },
  {
   "cell_type": "code",
   "execution_count": 17,
   "metadata": {},
   "outputs": [],
   "source": [
    "facts_url=\"https://space-facts.com/mars/\"\n",
    "browser.visit(facts_url)\n",
    "facts_tables = pd.read_html(facts_url)\n",
    "# facts_tables\n",
    "\n",
    "mars_0_df=facts_tables[0]\n",
    "# mars_0_df\n",
    "\n",
    "column_names={\n",
    "    0: \"Description\",\n",
    "    1: \"Mars Fact\"\n",
    "}\n",
    "\n",
    "mars_1_df=mars_0_df.rename(columns=column_names)\n",
    "# mars_1_df\n",
    "\n",
    "mars_df=mars_1_df.set_index(\"Description\")\n",
    "# mars_df\n",
    "\n",
    "mars_facts_html=mars_df.to_html()\n"
   ]
  },
  {
   "cell_type": "code",
   "execution_count": 18,
   "metadata": {},
   "outputs": [],
   "source": [
    "hemispheres_url=\"https://astrogeology.usgs.gov/search/results?q=hemisphere+enhanced&k1=target&v1=Mars\"\n",
    "browser.visit(hemispheres_url)\n"
   ]
  },
  {
   "cell_type": "code",
   "execution_count": 19,
   "metadata": {},
   "outputs": [],
   "source": [
    "html = browser.html\n",
    "\n",
    "# Parse HTML with Beautiful Soup\n",
    "soup = BeautifulSoup(html, 'html.parser')"
   ]
  },
  {
   "cell_type": "code",
   "execution_count": 20,
   "metadata": {},
   "outputs": [],
   "source": [
    "results = soup.find_all('div', class_='item')\n",
    "results\n",
    "\n",
    "hemisphere_image_urls=[]\n",
    "count=0\n",
    "\n",
    "for each_result in results: \n",
    "    \n",
    "    title=each_result.find('h3').text\n",
    "\n",
    "    \n",
    "    browser.find_by_tag(\"h3\")[count].click()\n",
    "    time.sleep(0.5)\n",
    "    \n",
    "    count=count+1\n",
    "    \n",
    "    html = browser.html\n",
    "\n",
    "    img_url=browser.find_by_text('Sample')['href']\n",
    "    \n",
    "    hemisphere_dict={\n",
    "        \"title\": title,\n",
    "        \"img_url\":img_url\n",
    "    }\n",
    "    \n",
    "    hemisphere_image_urls.append(hemisphere_dict)\n",
    "    \n",
    "    time.sleep(0.5)\n",
    "    \n",
    "    browser.visit(hemispheres_url)\n",
    "    "
   ]
  },
  {
   "cell_type": "code",
   "execution_count": 21,
   "metadata": {},
   "outputs": [],
   "source": [
    "browser.quit()\n"
   ]
  },
  {
   "cell_type": "code",
   "execution_count": 23,
   "metadata": {},
   "outputs": [
    {
     "name": "stdout",
     "output_type": "stream",
     "text": [
      "{'Title': 'NASA Ingenuity Mars Helicopter Prepares for First Flight', 'Paragraph': 'Now uncocooned from its protective carbon-fiber shield, the helicopter is being readied for its next steps.', 'FeaturedImage': 'https://d2pn8kiwq2w21t.cloudfront.net/images/jpegPIA24508.2e16d0ba.fill-400x400-c50.jpg', 'MarsFacts': '<table border=\"1\" class=\"dataframe\">\\n  <thead>\\n    <tr style=\"text-align: right;\">\\n      <th></th>\\n      <th>Mars Fact</th>\\n    </tr>\\n    <tr>\\n      <th>Description</th>\\n      <th></th>\\n    </tr>\\n  </thead>\\n  <tbody>\\n    <tr>\\n      <th>Equatorial Diameter:</th>\\n      <td>6,792 km</td>\\n    </tr>\\n    <tr>\\n      <th>Polar Diameter:</th>\\n      <td>6,752 km</td>\\n    </tr>\\n    <tr>\\n      <th>Mass:</th>\\n      <td>6.39 × 10^23 kg (0.11 Earths)</td>\\n    </tr>\\n    <tr>\\n      <th>Moons:</th>\\n      <td>2 (Phobos &amp; Deimos)</td>\\n    </tr>\\n    <tr>\\n      <th>Orbit Distance:</th>\\n      <td>227,943,824 km (1.38 AU)</td>\\n    </tr>\\n    <tr>\\n      <th>Orbit Period:</th>\\n      <td>687 days (1.9 years)</td>\\n    </tr>\\n    <tr>\\n      <th>Surface Temperature:</th>\\n      <td>-87 to -5 °C</td>\\n    </tr>\\n    <tr>\\n      <th>First Record:</th>\\n      <td>2nd millennium BC</td>\\n    </tr>\\n    <tr>\\n      <th>Recorded By:</th>\\n      <td>Egyptian astronomers</td>\\n    </tr>\\n  </tbody>\\n</table>', 'HemisphereImages': [{'title': 'Cerberus Hemisphere Enhanced', 'img_url': 'https://astropedia.astrogeology.usgs.gov/download/Mars/Viking/cerberus_enhanced.tif/full.jpg'}, {'title': 'Schiaparelli Hemisphere Enhanced', 'img_url': 'https://astropedia.astrogeology.usgs.gov/download/Mars/Viking/schiaparelli_enhanced.tif/full.jpg'}, {'title': 'Syrtis Major Hemisphere Enhanced', 'img_url': 'https://astropedia.astrogeology.usgs.gov/download/Mars/Viking/syrtis_major_enhanced.tif/full.jpg'}, {'title': 'Valles Marineris Hemisphere Enhanced', 'img_url': 'https://astropedia.astrogeology.usgs.gov/download/Mars/Viking/valles_marineris_enhanced.tif/full.jpg'}]}\n"
     ]
    }
   ],
   "source": [
    "mars_dict={\n",
    "    \"Title\":news_title,\n",
    "    \"Paragraph\":news_p,\n",
    "    \"FeaturedImage\": featured_image_url,\n",
    "    \"MarsFacts\": mars_facts_html,\n",
    "    \"HemisphereImages\": hemisphere_image_urls\n",
    "}\n",
    "\n",
    "print(mars_dict)"
   ]
  },
  {
   "cell_type": "code",
   "execution_count": null,
   "metadata": {},
   "outputs": [],
   "source": []
  }
 ],
 "metadata": {
  "kernelspec": {
   "display_name": "Python 3",
   "language": "python",
   "name": "python3"
  },
  "language_info": {
   "codemirror_mode": {
    "name": "ipython",
    "version": 3
   },
   "file_extension": ".py",
   "mimetype": "text/x-python",
   "name": "python",
   "nbconvert_exporter": "python",
   "pygments_lexer": "ipython3",
   "version": "3.8.3"
  }
 },
 "nbformat": 4,
 "nbformat_minor": 4
}
